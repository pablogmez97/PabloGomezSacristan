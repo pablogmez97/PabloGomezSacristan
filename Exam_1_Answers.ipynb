{
 "cells": [
  {
   "cell_type": "markdown",
   "metadata": {},
   "source": [
    "# Problem 2\n",
    "The command 'ls' lists all the files contained in a directory. Adding the argument '-l' it is possible to see these files in a list style and using the argument '-h' the size of the files is showed in megabytes (human readable).\n",
    "Regarding the ownership, the user can write and read, the group can write and read and anyone can read."
   ]
  },
  {
   "cell_type": "code",
   "execution_count": null,
   "metadata": {},
   "outputs": [],
   "source": [
    "ls -lh"
   ]
  },
  {
   "cell_type": "markdown",
   "metadata": {},
   "source": [
    "# Problem 3\n",
    "The command 'head' output the first 20 lines by default. Using the parameter '-1' the output of the command will be only the first line of the file indicated."
   ]
  },
  {
   "cell_type": "code",
   "execution_count": null,
   "metadata": {},
   "outputs": [],
   "source": [
    "head -1 Locus_Germplasm_Phenotype_20130122.txt"
   ]
  },
  {
   "cell_type": "markdown",
   "metadata": {},
   "source": [
    "# Problem 4\n",
    "The command and the argument 'wc -l' outputs the number of lines of a file."
   ]
  },
  {
   "cell_type": "code",
   "execution_count": null,
   "metadata": {},
   "outputs": [],
   "source": [
    "wc -l Locus_Germplasm_Phenotype_20130122.txt"
   ]
  },
  {
   "cell_type": "markdown",
   "metadata": {},
   "source": [
    "# Problem  5\n",
    "The command 'tail' outputs the last 20 lines of a file by default. Using the arguments '-n+2', the output will be all the lines of the file (\"the last all lines of the file, n\") starting by the second one (\"+2\"). Counting the lines of the original file (Problem 4) and counting the lines of the new file created (Data_Only.csv) with the same command, 'wc -l' it is possible to prove that the new file has the expected number of lines, one less than the original one."
   ]
  },
  {
   "cell_type": "code",
   "execution_count": null,
   "metadata": {},
   "outputs": [],
   "source": [
    "tail -n+2 Locus_Germplasm_Phenotype_20130122.txt > Data_Only.csv\n",
    "wc -l Locus_Germplasm_Phenotype_20130122.txt\n",
    "wc -l Data_Only.csv"
   ]
  },
  {
   "cell_type": "markdown",
   "metadata": {},
   "source": [
    "# Problem 6\n",
    "The command 'grep' allows to detect if a file contains a certain set of caracters. The argument '-i' means \"insensitive to case\" and using it, the output gives also the matches with slightly differences to the query (use of capital letters, etc). The argument '-n'gives an output which also contains the line number where the match was found."
   ]
  },
  {
   "cell_type": "code",
   "execution_count": null,
   "metadata": {},
   "outputs": [],
   "source": [
    "grep -in \"root\" Locus_Germplasm_Phenotype_20130122.txt"
   ]
  },
  {
   "cell_type": "markdown",
   "metadata": {},
   "source": [
    "# Problem 7\n",
    "First of all, a text document called Root_Loci_Info.txt is created containing the loci's lines that has a phenotype including the word root. To achieve this, the output of the previous command (Problem 6) was directed to the new document. Then, the new text file is filtered with the sequence of characters which corresponds to the structure of the AGI Locus Code. The output is transfered to the text file Root-associated-Loci.txt."
   ]
  },
  {
   "cell_type": "code",
   "execution_count": null,
   "metadata": {},
   "outputs": [],
   "source": [
    "grep -in \"root\" Locus_Germplasm_Phenotype_20130122.txt > Root_Loci_Info.txt\n",
    "grep -E -in \"AT[1-5]G[0-9]{5}\" Root_Loci_Info.txt > Root-associated-Loci.txt"
   ]
  },
  {
   "cell_type": "markdown",
   "metadata": {},
   "source": [
    "# Problem 8\n",
    "PubMed ID are a sequence of numbers of variable length. If the file containing Loci related to roots, created for the previous problem, is filtered with the expression 'grep -E -io \"[0-9]+\"', any number contained in the document is going to be part of the output. That is why a minimum length has to be established. As the other codes contained in the file are the AGI Locus Code and these contain a variable sequence of 5 numbers, a minimum of 6 numbers has been established for the PubMed IDs. This is achieved ussing the expression 'grep -E -io \"[0-9]{6}[0-9]+', so the output will be any sequence of numbers from 0 to 9 minimum with 6 digits."
   ]
  },
  {
   "cell_type": "code",
   "execution_count": null,
   "metadata": {},
   "outputs": [],
   "source": [
    "grep -E -io \"[0-9]{6}[0-9]+\" Root_Loci_Info.txt > Root-associated-Publications.txt"
   ]
  },
  {
   "cell_type": "markdown",
   "metadata": {},
   "source": [
    "# Problem 9\n",
    "To check the hypothesis, the AGI Locus Code for each chromosome has been looked for in the file containing the information about the Loci whose phenotype is related to root, and the number of lines have been counted to check how many matches there were. In this case, the result obtained shows that the genes related to root are only located in the first chromosome. \n",
    "However, after a quick search on the original file, it is possible to see that there are other chromosomes which contain genes related to the phenotype root. "
   ]
  },
  {
   "cell_type": "code",
   "execution_count": null,
   "metadata": {},
   "outputs": [],
   "source": [
    "grep -E -in \"AT1G[0-9]{5}\" Root_Loci_Info.txt | wc -l\n",
    "grep -E -in \"AT2G[0-9]{5}\" Root_Loci_Info.txt | wc -l\n",
    "grep -E -in \"AT3G[0-9]{5}\" Root_Loci_Info.txt | wc -l\n",
    "grep -E -in \"AT4G[0-9]{5}\" Root_Loci_Info.txt | wc -l\n",
    "grep -E -in \"AT5G[0-9]{5}\" Root_Loci_Info.txt | wc -l"
   ]
  },
  {
   "cell_type": "code",
   "execution_count": null,
   "metadata": {},
   "outputs": [],
   "source": [
    "grep -E -in \"AT2G[0-9]{5}\" Locus_Germplasm_Phenotype_20130122.txt | grep -in \"root\""
   ]
  },
  {
   "cell_type": "markdown",
   "metadata": {},
   "source": [
    "# Problem 10\n",
    "There is something wrong occurring when the document Root_Loci_Info.txt is being created. Only the first part of the document is being filtered, and the output only includes the genes related to root on the first chromosome. It is possible that this is due to the way the Loci are stored in the database. It is important to know how the data is stored because if not our commands will give us in some cases (such as in this one) the matches of the first part of the file."
   ]
  }
 ],
 "metadata": {
  "kernelspec": {
   "display_name": "Bash",
   "language": "bash",
   "name": "bash"
  },
  "language_info": {
   "codemirror_mode": "shell",
   "file_extension": ".sh",
   "mimetype": "text/x-sh",
   "name": "bash"
  }
 },
 "nbformat": 4,
 "nbformat_minor": 2
}
